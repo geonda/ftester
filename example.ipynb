{
 "cells": [
  {
   "cell_type": "code",
   "execution_count": 1,
   "metadata": {},
   "outputs": [],
   "source": [
    "from src.ftester import testflow\n",
    "from scipy import integrate"
   ]
  },
  {
   "cell_type": "code",
   "execution_count": 2,
   "metadata": {},
   "outputs": [],
   "source": [
    "ws = testflow()\n",
    "\n",
    "\n",
    "@ws.resolve\n",
    "def test1(f, n=10):\n",
    "    output = sum([f(i/n)*(1./n) for i in range(n)])\n",
    "    return output\n",
    "\n",
    "\n",
    "\n",
    "@ws.resolve\n",
    "def test2(f, tol=1.49e-08):\n",
    "    output = integrate.quadrature(f, 0.0, 1.0, tol=tol)\n",
    "    return output[0]\n",
    "\n",
    "\n",
    "\n",
    "@ws.timeit\n",
    "def test3(f, tol=1.49e-08):\n",
    "    output = integrate.quadrature(f, 0.0, 10.0, tol=tol)\n",
    "    return output[0]\n"
   ]
  },
  {
   "cell_type": "code",
   "execution_count": 3,
   "metadata": {},
   "outputs": [],
   "source": [
    "def f(x): return x**3-x**10+x**2"
   ]
  },
  {
   "cell_type": "code",
   "execution_count": 4,
   "metadata": {},
   "outputs": [
    {
     "data": {
      "application/vnd.jupyter.widget-view+json": {
       "model_id": "e21e425bc59c4e5982fe642942197abd",
       "version_major": 2,
       "version_minor": 0
      },
      "text/plain": [
       "FigureWidget({\n",
       "    'data': [],\n",
       "    'layout': {'legend': {'font': {'color': 'grey', 'size': 15}, 'x': 0.1, 'y': 0.5},\n",
       "               'margin': {'b': 10, 'l': 10, 'r': 10, 't': 10},\n",
       "               'template': '...',\n",
       "               'xaxis': {'title': {'text': '# points'}},\n",
       "               'yaxis': {'title': {'text': 'time spent, s'}}}\n",
       "})"
      ]
     },
     "execution_count": 4,
     "metadata": {},
     "output_type": "execute_result"
    }
   ],
   "source": [
    "ws.visual()"
   ]
  },
  {
   "cell_type": "code",
   "execution_count": null,
   "metadata": {},
   "outputs": [],
   "source": []
  },
  {
   "cell_type": "code",
   "execution_count": 5,
   "metadata": {},
   "outputs": [],
   "source": [
    "for i in range(10, 1000, 100):\n",
    "    test1(f, n=i)\n",
    "    test2(f)\n",
    "    ws.live()"
   ]
  },
  {
   "cell_type": "code",
   "execution_count": null,
   "metadata": {},
   "outputs": [],
   "source": []
  }
 ],
 "metadata": {
  "kernelspec": {
   "display_name": "ftester",
   "language": "python",
   "name": "python3"
  },
  "language_info": {
   "codemirror_mode": {
    "name": "ipython",
    "version": 3
   },
   "file_extension": ".py",
   "mimetype": "text/x-python",
   "name": "python",
   "nbconvert_exporter": "python",
   "pygments_lexer": "ipython3",
   "version": "3.11.3"
  }
 },
 "nbformat": 4,
 "nbformat_minor": 2
}
